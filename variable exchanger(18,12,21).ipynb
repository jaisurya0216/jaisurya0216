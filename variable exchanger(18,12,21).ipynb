{
  "nbformat": 4,
  "nbformat_minor": 0,
  "metadata": {
    "colab": {
      "name": "Untitled5.ipynb",
      "provenance": [],
      "authorship_tag": "ABX9TyNrnXi5uRo17t9gpKlPDOOI",
      "include_colab_link": true
    },
    "kernelspec": {
      "name": "python3",
      "display_name": "Python 3"
    },
    "language_info": {
      "name": "python"
    }
  },
  "cells": [
    {
      "cell_type": "markdown",
      "metadata": {
        "id": "view-in-github",
        "colab_type": "text"
      },
      "source": [
        "<a href=\"https://colab.research.google.com/github/jaisurya0216/jaisurya0216/blob/main/18122021.ipynb\" target=\"_parent\"><img src=\"https://colab.research.google.com/assets/colab-badge.svg\" alt=\"Open In Colab\"/></a>"
      ]
    },
    {
      "cell_type": "code",
      "execution_count": 5,
      "metadata": {
        "colab": {
          "base_uri": "https://localhost:8080/"
        },
        "id": "Pr9bMuGJ_kgU",
        "outputId": "d12947dd-6363-4019-ec91-4ac693aaba99"
      },
      "outputs": [
        {
          "output_type": "stream",
          "name": "stdout",
          "text": [
            "VARIABLE EXCHANGER:\n",
            "ENTER THE VALUE OF V1:7\n",
            "ENTER THE VALUE OF V2:8\n",
            "ENTER THE VALUE OF V3:9\n",
            "BEFORE EXCHANGE: \n",
            " Variale1: 7 \n",
            " VARIABL2: 8 \n",
            " VARIABLE3: 9\n",
            "AFTER EXCHANGE: \n",
            " VARIABLE1: 9 \n",
            " VARIABLE2: 8 \n",
            " VARIABLE3: 7\n",
            "***THANK YOU FOR USING OUR CONVERTER***\n"
          ]
        }
      ],
      "source": [
        "print(\"VARIABLE EXCHANGER:\")\n",
        "\n",
        "V1 = int(input(\"ENTER THE VALUE OF V1:\"))\n",
        "V2 = int(input(\"ENTER THE VALUE OF V2:\"))\n",
        "V3 = int(input(\"ENTER THE VALUE OF V3:\"))\n",
        "\n",
        "print(\"BEFORE EXCHANGE:\",\"\\n\",\"Variale1:\",V1,\"\\n\",\"VARIABL2:\",V2,\"\\n\",\"VARIABLE3:\",V3)\n",
        "\n",
        "V1,V2,V3 = V3,V2,V1\n",
        "\n",
        "print(\"AFTER EXCHANGE:\",\"\\n\",\"VARIABLE1:\",V1,\"\\n\",\"VARIABLE2:\",V2,\"\\n\",\"VARIABLE3:\",V3)\n",
        "print(\"***THANK YOU FOR USING OUR CONVERTER***\")"
      ]
    }
  ]
}
