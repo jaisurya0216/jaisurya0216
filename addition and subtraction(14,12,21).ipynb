{
  "nbformat": 4,
  "nbformat_minor": 0,
  "metadata": {
    "colab": {
      "name": "14122021.ipynb",
      "provenance": [],
      "authorship_tag": "ABX9TyNtC1ZMMGK5tD9JoQiyfPcb",
      "include_colab_link": true
    },
    "kernelspec": {
      "name": "python3",
      "display_name": "Python 3"
    },
    "language_info": {
      "name": "python"
    }
  },
  "cells": [
    {
      "cell_type": "markdown",
      "metadata": {
        "id": "view-in-github",
        "colab_type": "text"
      },
      "source": [
        "<a href=\"https://colab.research.google.com/github/jaisurya0216/jaisurya0216/blob/main/14122021.ipynb\" target=\"_parent\"><img src=\"https://colab.research.google.com/assets/colab-badge.svg\" alt=\"Open In Colab\"/></a>"
      ]
    },
    {
      "cell_type": "code",
      "execution_count": 1,
      "metadata": {
        "colab": {
          "base_uri": "https://localhost:8080/"
        },
        "id": "bRpO7AEWyHbw",
        "outputId": "91fc8762-798f-46a4-d887-6ffbe77f97a3"
      },
      "outputs": [
        {
          "output_type": "stream",
          "name": "stdout",
          "text": [
            "the addition value is 126\n",
            "the subtraction value is -32\n",
            "**THANK YOU**\n"
          ]
        }
      ],
      "source": [
        "num1 = 47\n",
        "num2 = 79\n",
        "\n",
        "sum = num1 + num2\n",
        "\n",
        "print(\"the addition value is\",sum)\n",
        "\n",
        "min = num1 - num2\n",
        "\n",
        "print(\"the subtraction value is\",min)\n",
        "\n",
        "print(\"**THANK YOU**\")"
      ]
    }
  ]
}
