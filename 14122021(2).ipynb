{
  "nbformat": 4,
  "nbformat_minor": 0,
  "metadata": {
    "colab": {
      "name": "Untitled1.ipynb",
      "provenance": [],
      "authorship_tag": "ABX9TyPvFaaYcBDQqWK44Z46qSII",
      "include_colab_link": true
    },
    "kernelspec": {
      "name": "python3",
      "display_name": "Python 3"
    },
    "language_info": {
      "name": "python"
    }
  },
  "cells": [
    {
      "cell_type": "markdown",
      "metadata": {
        "id": "view-in-github",
        "colab_type": "text"
      },
      "source": [
        "<a href=\"https://colab.research.google.com/github/jaisurya0216/jaisurya0216/blob/main/14122021(2).ipynb\" target=\"_parent\"><img src=\"https://colab.research.google.com/assets/colab-badge.svg\" alt=\"Open In Colab\"/></a>"
      ]
    },
    {
      "cell_type": "code",
      "execution_count": 5,
      "metadata": {
        "colab": {
          "base_uri": "https://localhost:8080/"
        },
        "id": "tTS7LOj36a0o",
        "outputId": "006f8f5f-01d1-4dda-ffb2-472817e5b39f"
      },
      "outputs": [
        {
          "output_type": "stream",
          "name": "stdout",
          "text": [
            "CALCULATE TWO VALUES:\n",
            "ENTER FIRST NUMBER:789\n",
            "ENTER SECOND NUMBER:638\n",
            "789 + 638 =\n",
            "1427\n",
            "789 - 638 =\n",
            "151\n",
            "789 * 638 =\n",
            "789 638\n",
            "789 / 638 =\n",
            "789 638\n",
            "789 % 638 =\n",
            "789 638\n",
            "**THANK YOU**\n"
          ]
        }
      ],
      "source": [
        "print(\"CALCULATE TWO VALUES:\")\n",
        "\n",
        "a = int(input(\"ENTER FIRST NUMBER:\"))\n",
        "\n",
        "b = int(input(\"ENTER SECOND NUMBER:\"))\n",
        "\n",
        "#Adding of the numbers\n",
        "\n",
        "print(\"{} + {} =\".format(a , b))\n",
        "print(a + b)\n",
        "\n",
        "#Subtraction of the numbers\n",
        "\n",
        "print(\"{} - {} =\".format(a , b))\n",
        "print(a - b)\n",
        "\n",
        "#Multiplication of numbers\n",
        "\n",
        "print(\"{} * {} =\".format(a , b))\n",
        "print(a , b)\n",
        "\n",
        "#Dividing the numbers\n",
        "\n",
        "print(\"{} / {} =\".format(a , b))\n",
        "print(a , b)\n",
        "\n",
        "#Finding remainder of the numbers\n",
        "\n",
        "print(\"{} % {} =\".format(a , b))\n",
        "print(a , b)\n",
        "\n",
        "print(\"**THANK YOU**\")"
      ]
    }
  ]
}