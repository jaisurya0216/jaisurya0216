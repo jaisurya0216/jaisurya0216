{
  "nbformat": 4,
  "nbformat_minor": 0,
  "metadata": {
    "colab": {
      "name": "17122021(1).ipynb",
      "provenance": [],
      "authorship_tag": "ABX9TyNOZdMnTdvSczLG0+6KtBBi",
      "include_colab_link": true
    },
    "kernelspec": {
      "name": "python3",
      "display_name": "Python 3"
    },
    "language_info": {
      "name": "python"
    }
  },
  "cells": [
    {
      "cell_type": "markdown",
      "metadata": {
        "id": "view-in-github",
        "colab_type": "text"
      },
      "source": [
        "<a href=\"https://colab.research.google.com/github/jaisurya0216/jaisurya0216/blob/main/17122021(1).ipynb\" target=\"_parent\"><img src=\"https://colab.research.google.com/assets/colab-badge.svg\" alt=\"Open In Colab\"/></a>"
      ]
    },
    {
      "cell_type": "code",
      "execution_count": 4,
      "metadata": {
        "colab": {
          "base_uri": "https://localhost:8080/"
        },
        "id": "IRmJMWWiFkC8",
        "outputId": "fa00c21d-365b-4445-a508-0e401d7b1d63"
      },
      "outputs": [
        {
          "output_type": "stream",
          "name": "stdout",
          "text": [
            "BYTES CONVERTING CALCULATOR\n",
            "---------------------------------------\n",
            "ENTER THE MEMORY SIZE678.78866\n",
            "678.78866 Kilobytes = 1024 Bytes\n",
            "678.78866 Megabytes = 1048576 Bytes\n",
            "678.78866 Terabytes = 1099511627776 Bytes\n",
            "678.78866 Gigabytes = 1073741824 Bytes\n",
            "678.78866 Petabytes = 1125899906842624 Bytes\n",
            "678.78866 Exabytes = 1152921504606846976 Bytes\n",
            "678.78866 Zetabytes = 1180591620717411303424 Bytes\n",
            "678.78866 Yottabytes = 1208925819614629174706176 Bytes\n",
            "the converter is made by **jaisurya**\n",
            "**THANKS FOR USING OUR PRODUCT**\n"
          ]
        }
      ],
      "source": [
        "print(\"BYTES CONVERTING CALCULATOR\")\n",
        "\n",
        "print(\"---------------------------------------\")\n",
        "\n",
        "size = float(input(\"ENTER THE MEMORY SIZE\"))\n",
        "\n",
        "KB = 1024\n",
        "MB = (1024**2)\n",
        "GB = (1024**3)\n",
        "TB = (1024**4)\n",
        "PB = (1024**5)\n",
        "EB = (1024**6)\n",
        "ZB = (1024**7)\n",
        "YB = (1024**8)\n",
        "\n",
        "\n",
        "print(size,\"Kilobytes\",\"=\",KB,\"Bytes\")\n",
        "print(size,\"Megabytes\",\"=\",MB,\"Bytes\")\n",
        "print(size,\"Terabytes\",\"=\",TB,\"Bytes\")\n",
        "print(size,\"Gigabytes\",\"=\",GB,\"Bytes\")\n",
        "print(size,\"Petabytes\",\"=\",PB,\"Bytes\")\n",
        "print(size,\"Exabytes\",\"=\",EB,\"Bytes\")\n",
        "print(size,\"Zetabytes\",\"=\",ZB,\"Bytes\")\n",
        "print(size,\"Yottabytes\",\"=\",YB,\"Bytes\")\n",
        "\n",
        "print(\"the converter is made by **jaisurya**\")\n",
        "\n",
        "print(\"**THANKS FOR USING OUR PRODUCT**\")\n",
        "\n"
      ]
    }
  ]
}
