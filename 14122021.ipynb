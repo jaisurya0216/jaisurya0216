{
  "nbformat": 4,
  "nbformat_minor": 0,
  "metadata": {
    "colab": {
      "name": "Untitled0.ipynb",
      "provenance": [],
      "authorship_tag": "ABX9TyPwVIe40aWpgiyKum39kNsa",
      "include_colab_link": true
    },
    "kernelspec": {
      "name": "python3",
      "display_name": "Python 3"
    },
    "language_info": {
      "name": "python"
    }
  },
  "cells": [
    {
      "cell_type": "markdown",
      "metadata": {
        "id": "view-in-github",
        "colab_type": "text"
      },
      "source": [
        "<a href=\"https://colab.research.google.com/github/jaisurya0216/jaisurya0216/blob/main/14122021.ipynb\" target=\"_parent\"><img src=\"https://colab.research.google.com/assets/colab-badge.svg\" alt=\"Open In Colab\"/></a>"
      ]
    },
    {
      "cell_type": "code",
      "execution_count": 3,
      "metadata": {
        "colab": {
          "base_uri": "https://localhost:8080/"
        },
        "id": "sVedYqQcL1Se",
        "outputId": "b725da94-e3ad-43bf-b8fb-83b0cb1630b3"
      },
      "outputs": [
        {
          "output_type": "stream",
          "name": "stdout",
          "text": [
            "the addition value is 26\n",
            "the substraction value is -2\n"
          ]
        }
      ],
      "source": [
        "a = 12\n",
        "b = 14\n",
        "\n",
        "sum = a + b\n",
        "\n",
        "print(\"the addition value is\",sum)\n",
        "\n",
        "min = a - b\n",
        "\n",
        "print(\"the substraction value is\",min)"
      ]
    }
  ]
}