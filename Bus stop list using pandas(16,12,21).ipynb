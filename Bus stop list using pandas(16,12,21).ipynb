{
  "nbformat": 4,
  "nbformat_minor": 0,
  "metadata": {
    "colab": {
      "name": "16122021(1).ipynb",
      "provenance": [],
      "authorship_tag": "ABX9TyO4yojDRW83V8uGl9WQFafo",
      "include_colab_link": true
    },
    "kernelspec": {
      "name": "python3",
      "display_name": "Python 3"
    },
    "language_info": {
      "name": "python"
    }
  },
  "cells": [
    {
      "cell_type": "markdown",
      "metadata": {
        "id": "view-in-github",
        "colab_type": "text"
      },
      "source": [
        "<a href=\"https://colab.research.google.com/github/jaisurya0216/jaisurya0216/blob/main/16122021(1).ipynb\" target=\"_parent\"><img src=\"https://colab.research.google.com/assets/colab-badge.svg\" alt=\"Open In Colab\"/></a>"
      ]
    },
    {
      "cell_type": "code",
      "execution_count": 5,
      "metadata": {
        "colab": {
          "base_uri": "https://localhost:8080/"
        },
        "id": "vu98Hq8CUAgK",
        "outputId": "4f63c1c2-d007-40c7-dd1d-eabb4f1df973"
      },
      "outputs": [
        {
          "output_type": "stream",
          "name": "stdout",
          "text": [
            "     bus  stops\n",
            "0   no.1      9\n",
            "1  no.23     35\n",
            "2  no.67     26\n"
          ]
        }
      ],
      "source": [
        "import pandas\n",
        "\n",
        "mydata = {\n",
        "    'bus': [\"no.1\", \"no.23\", \"no.67\"],\n",
        "    'stops': [9, 35, 26]\n",
        "}\n",
        "\n",
        "myvar = pandas.DataFrame(mydata)\n",
        "\n",
        "print(myvar)"
      ]
    }
  ]
}
