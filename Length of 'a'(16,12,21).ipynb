{
  "nbformat": 4,
  "nbformat_minor": 0,
  "metadata": {
    "colab": {
      "name": "16122021.ipynb",
      "provenance": [],
      "authorship_tag": "ABX9TyObxNCVvsv0J1N0wYch5v//",
      "include_colab_link": true
    },
    "kernelspec": {
      "name": "python3",
      "display_name": "Python 3"
    },
    "language_info": {
      "name": "python"
    }
  },
  "cells": [
    {
      "cell_type": "markdown",
      "metadata": {
        "id": "view-in-github",
        "colab_type": "text"
      },
      "source": [
        "<a href=\"https://colab.research.google.com/github/jaisurya0216/jaisurya0216/blob/main/16122021.ipynb\" target=\"_parent\"><img src=\"https://colab.research.google.com/assets/colab-badge.svg\" alt=\"Open In Colab\"/></a>"
      ]
    },
    {
      "cell_type": "code",
      "execution_count": 5,
      "metadata": {
        "colab": {
          "base_uri": "https://localhost:8080/"
        },
        "id": "HHJ2CX9GR5w0",
        "outputId": "c1eaf8ce-2665-4bd1-9fba-d9c35f54dec1"
      },
      "outputs": [
        {
          "output_type": "stream",
          "name": "stdout",
          "text": [
            "bot\n",
            "31\n"
          ]
        }
      ],
      "source": [
        "a = \"bot, banana, apple, mango, rasp\"\n",
        "\n",
        "print(a[:3])\n",
        "print(len(a))"
      ]
    }
  ]
}
