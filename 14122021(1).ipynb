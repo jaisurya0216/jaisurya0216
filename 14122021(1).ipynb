{
  "nbformat": 4,
  "nbformat_minor": 0,
  "metadata": {
    "colab": {
      "name": "Untitled0.ipynb",
      "provenance": [],
      "authorship_tag": "ABX9TyNKxw9PPtjf5eoBdJKg3nfe",
      "include_colab_link": true
    },
    "kernelspec": {
      "name": "python3",
      "display_name": "Python 3"
    },
    "language_info": {
      "name": "python"
    }
  },
  "cells": [
    {
      "cell_type": "markdown",
      "metadata": {
        "id": "view-in-github",
        "colab_type": "text"
      },
      "source": [
        "<a href=\"https://colab.research.google.com/github/jaisurya0216/jaisurya0216/blob/main/141222021.ipynb\" target=\"_parent\"><img src=\"https://colab.research.google.com/assets/colab-badge.svg\" alt=\"Open In Colab\"/></a>"
      ]
    },
    {
      "cell_type": "code",
      "execution_count": 2,
      "metadata": {
        "colab": {
          "base_uri": "https://localhost:8080/"
        },
        "id": "WsqbgFXl206x",
        "outputId": "24c7b6c1-9e48-455c-a330-7a78bbb63a52"
      },
      "outputs": [
        {
          "output_type": "stream",
          "name": "stdout",
          "text": [
            "the product is 5655\n",
            "the division value is 0.7471264367816092\n",
            "the remainder is 65\n",
            "**THANK YOU**\n"
          ]
        }
      ],
      "source": [
        "num1 = 65\n",
        "num2 = 87\n",
        "\n",
        "mul = num1 * num2\n",
        "\n",
        "# multiply the two values\n",
        "\n",
        "print(\"the product is\",mul)\n",
        "\n",
        "div = num1 / num2\n",
        "\n",
        "# divide the two values\n",
        "\n",
        "print(\"the division value is\",div)\n",
        "\n",
        "rem = num1 % num2\n",
        "\n",
        "# find reminder of two values\n",
        "\n",
        "print(\"the remainder is\",rem)\n",
        "\n",
        "print(\"**THANK YOU**\")\n"
      ]
    }
  ]
}
