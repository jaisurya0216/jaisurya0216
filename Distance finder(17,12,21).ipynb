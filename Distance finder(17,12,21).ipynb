{
  "nbformat": 4,
  "nbformat_minor": 0,
  "metadata": {
    "colab": {
      "name": "Untitled3.ipynb",
      "provenance": [],
      "authorship_tag": "ABX9TyPz+EBZrVrVutzqPC27+uwk",
      "include_colab_link": true
    },
    "kernelspec": {
      "name": "python3",
      "display_name": "Python 3"
    },
    "language_info": {
      "name": "python"
    }
  },
  "cells": [
    {
      "cell_type": "markdown",
      "metadata": {
        "id": "view-in-github",
        "colab_type": "text"
      },
      "source": [
        "<a href=\"https://colab.research.google.com/github/jaisurya0216/jaisurya0216/blob/main/17122021.ipynb\" target=\"_parent\"><img src=\"https://colab.research.google.com/assets/colab-badge.svg\" alt=\"Open In Colab\"/></a>"
      ]
    },
    {
      "cell_type": "code",
      "execution_count": 1,
      "metadata": {
        "colab": {
          "base_uri": "https://localhost:8080/"
        },
        "id": "sY5eZg1fDAxT",
        "outputId": "cbc47a16-f932-4f72-fb79-eb4311b3dcef"
      },
      "outputs": [
        {
          "output_type": "stream",
          "name": "stdout",
          "text": [
            "DISTANCE BETWEEN TWO POINTS\n",
            "ENTER X1:67\n",
            "ENTER X2:67\n",
            "ENTER Y1:89\n",
            "ENTER Y2:90\n",
            "DISTANCE = 1.0\n",
            "this distance finder was made by **jaisurya**\n",
            "***THANKS FOR USING OUR PRODUCT***\n"
          ]
        }
      ],
      "source": [
        "print(\"DISTANCE BETWEEN TWO POINTS\")\n",
        "\n",
        "X1 = float(input(\"ENTER X1:\"))\n",
        "X2 = float(input(\"ENTER X2:\"))\n",
        "\n",
        "Y1 = float(input(\"ENTER Y1:\"))\n",
        "Y2 = float(input(\"ENTER Y2:\"))\n",
        "\n",
        "D = ((X2-X1)**2 + (Y2-Y1)**2)**0.5\n",
        "\n",
        "print(\"DISTANCE =\",D)\n",
        "\n",
        "print(\"this distance finder was made by **jaisurya**\")\n",
        "\n",
        "print(\"***THANKS FOR USING OUR PRODUCT***\")"
      ]
    }
  ]
}
